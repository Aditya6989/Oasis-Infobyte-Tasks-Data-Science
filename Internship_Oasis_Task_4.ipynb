{
  "nbformat": 4,
  "nbformat_minor": 0,
  "metadata": {
    "colab": {
      "provenance": []
    },
    "kernelspec": {
      "name": "python3",
      "display_name": "Python 3"
    },
    "language_info": {
      "name": "python"
    }
  },
  "cells": [
    {
      "cell_type": "code",
      "source": [
        "import pandas as pd\n",
        "import numpy as np\n",
        "import string, re\n",
        "\n",
        "from sklearn.model_selection import train_test_split\n",
        "from sklearn.feature_extraction.text import TfidfVectorizer\n",
        "from sklearn.naive_bayes import MultinomialNB\n",
        "from sklearn.linear_model import LogisticRegression\n",
        "from sklearn import metrics\n",
        "from sklearn.pipeline import Pipeline"
      ],
      "metadata": {
        "id": "4TchQcy2-Ks7"
      },
      "execution_count": 2,
      "outputs": []
    },
    {
      "cell_type": "code",
      "source": [
        "# Load dataset\n",
        "df = pd.read_csv('/content/spam.csv', encoding='latin-1')\n",
        "df = df[['v1', 'v2']].rename(columns={'v1': 'label', 'v2': 'message'})\n",
        "df['label'] = df['label'].map({'ham': 0, 'spam': 1})\n"
      ],
      "metadata": {
        "id": "N5Lm_ttX-PYH"
      },
      "execution_count": 3,
      "outputs": []
    },
    {
      "cell_type": "code",
      "source": [
        "# Clean function\n",
        "def clean_text(text):\n",
        "    text = text.lower()\n",
        "    text = re.sub(r'\\d+', '', text)  # remove digits\n",
        "    text = text.translate(str.maketrans('', '', string.punctuation))  # remove punctuation\n",
        "    text = text.strip()\n",
        "    return text\n",
        "\n",
        "df['cleaned'] = df['message'].apply(clean_text)"
      ],
      "metadata": {
        "id": "tsx2K02H-RgK"
      },
      "execution_count": 6,
      "outputs": []
    },
    {
      "cell_type": "code",
      "source": [
        "# Train/Test split\n",
        "X_train, X_test, y_train, y_test = train_test_split(\n",
        "    df['cleaned'], df['label'], test_size=0.2, random_state=42\n",
        ")"
      ],
      "metadata": {
        "id": "FMzmRIjm-Wug"
      },
      "execution_count": 7,
      "outputs": []
    },
    {
      "cell_type": "code",
      "source": [
        "# Build pipelines\n",
        "pipelines = {\n",
        "    'NaiveBayes–TFIDF': Pipeline([\n",
        "        ('tfidf', TfidfVectorizer(stop_words='english', max_df=0.9)),\n",
        "        ('clf', MultinomialNB())\n",
        "    ]),\n",
        "    'LogisticRegression–TFIDF': Pipeline([\n",
        "        ('tfidf', TfidfVectorizer(stop_words='english', max_df=0.9)),\n",
        "        ('clf', LogisticRegression(max_iter=1000))\n",
        "    ])\n",
        "}"
      ],
      "metadata": {
        "id": "qY7E1MJg-vTR"
      },
      "execution_count": 9,
      "outputs": []
    },
    {
      "cell_type": "code",
      "source": [
        "# Train & evaluate each\n",
        "for name, pipe in pipelines.items():\n",
        "    pipe.fit(X_train, y_train)\n",
        "    y_pred = pipe.predict(X_test)\n",
        "    print(f\"\\n{name} results:\")\n",
        "    print(\"Accuracy:\", metrics.accuracy_score(y_test, y_pred))\n",
        "    print(\"Precision:\", metrics.precision_score(y_test, y_pred))\n",
        "    print(\"Recall:\", metrics.recall_score(y_test, y_pred))\n",
        "    print(\"F1 Score:\", metrics.f1_score(y_test, y_pred))\n",
        "    print(\"Confusion Matrix:\\n\", metrics.confusion_matrix(y_test, y_pred))\n",
        "\n",
        "# Predict function\n",
        "def predict_message(msg, model):\n",
        "    msg_clean = clean_text(msg)\n",
        "    pred = model.predict([msg_clean])[0]\n",
        "    return \"🚨 Spam\" if pred == 1 else \"✅ Not Spam\"\n",
        "\n",
        "# Example usage:\n",
        "sample = pipelines['NaiveBayes–TFIDF']\n",
        "print(predict_message(\"Congratulations! You've won a free lottery. Claim now!\", sample))\n",
        "print(predict_message(\"Hey, are we still meeting for coffee today?\", sample))"
      ],
      "metadata": {
        "colab": {
          "base_uri": "https://localhost:8080/"
        },
        "id": "S8B_x5PV-4yT",
        "outputId": "f8f4f65b-886f-43fb-968b-4e544df0200b"
      },
      "execution_count": 15,
      "outputs": [
        {
          "output_type": "stream",
          "name": "stdout",
          "text": [
            "\n",
            "NaiveBayes–TFIDF results:\n",
            "Accuracy: 0.968609865470852\n",
            "Precision: 1.0\n",
            "Recall: 0.7666666666666667\n",
            "F1 Score: 0.8679245283018868\n",
            "Confusion Matrix:\n",
            " [[965   0]\n",
            " [ 35 115]]\n",
            "\n",
            "LogisticRegression–TFIDF results:\n",
            "Accuracy: 0.9506726457399103\n",
            "Precision: 0.9702970297029703\n",
            "Recall: 0.6533333333333333\n",
            "F1 Score: 0.7808764940239044\n",
            "Confusion Matrix:\n",
            " [[962   3]\n",
            " [ 52  98]]\n",
            "🚨 Spam\n",
            "✅ Not Spam\n"
          ]
        }
      ]
    }
  ]
}